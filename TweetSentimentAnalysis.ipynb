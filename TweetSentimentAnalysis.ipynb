<<<<<<< HEAD
{
 "cells": [
  {
   "cell_type": "markdown",
   "metadata": {},
   "source": [
    "Importing packages"
   ]
  },
  {
   "cell_type": "code",
   "execution_count": 1,
   "metadata": {},
   "outputs": [],
   "source": [
    "# import\n",
    "import pandas as pd\n",
    "# data vizualisation\n",
    "import matplotlib.pyplot as plt\n",
    "# text cleaning\n",
    "import nltk\n",
    "from nltk.corpus import stopwords\n",
    "from nltk.tokenize import word_tokenize\n",
    "import string\n",
    "import re"
   ]
  },
  {
   "cell_type": "markdown",
   "metadata": {},
   "source": [
    "Loading CSV file"
   ]
  },
  {
   "cell_type": "code",
   "execution_count": 2,
   "metadata": {},
   "outputs": [
    {
     "data": {
      "text/html": [
       "<div>\n",
       "<style scoped>\n",
       "    .dataframe tbody tr th:only-of-type {\n",
       "        vertical-align: middle;\n",
       "    }\n",
       "\n",
       "    .dataframe tbody tr th {\n",
       "        vertical-align: top;\n",
       "    }\n",
       "\n",
       "    .dataframe thead th {\n",
       "        text-align: right;\n",
       "    }\n",
       "</style>\n",
       "<table border=\"1\" class=\"dataframe\">\n",
       "  <thead>\n",
       "    <tr style=\"text-align: right;\">\n",
       "      <th></th>\n",
       "      <th>textID</th>\n",
       "      <th>text</th>\n",
       "      <th>selected_text</th>\n",
       "      <th>sentiment</th>\n",
       "    </tr>\n",
       "  </thead>\n",
       "  <tbody>\n",
       "    <tr>\n",
       "      <th>0</th>\n",
       "      <td>cb774db0d1</td>\n",
       "      <td>I`d have responded, if I were going</td>\n",
       "      <td>I`d have responded, if I were going</td>\n",
       "      <td>neutral</td>\n",
       "    </tr>\n",
       "    <tr>\n",
       "      <th>1</th>\n",
       "      <td>549e992a42</td>\n",
       "      <td>Sooo SAD I will miss you here in San Diego!!!</td>\n",
       "      <td>Sooo SAD</td>\n",
       "      <td>negative</td>\n",
       "    </tr>\n",
       "    <tr>\n",
       "      <th>2</th>\n",
       "      <td>088c60f138</td>\n",
       "      <td>my boss is bullying me...</td>\n",
       "      <td>bullying me</td>\n",
       "      <td>negative</td>\n",
       "    </tr>\n",
       "  </tbody>\n",
       "</table>\n",
       "</div>"
      ],
      "text/plain": [
       "       textID                                            text  \\\n",
       "0  cb774db0d1             I`d have responded, if I were going   \n",
       "1  549e992a42   Sooo SAD I will miss you here in San Diego!!!   \n",
       "2  088c60f138                       my boss is bullying me...   \n",
       "\n",
       "                         selected_text sentiment  \n",
       "0  I`d have responded, if I were going   neutral  \n",
       "1                             Sooo SAD  negative  \n",
       "2                          bullying me  negative  "
      ]
     },
     "execution_count": 2,
     "metadata": {},
     "output_type": "execute_result"
    }
   ],
   "source": [
    "tweet = pd.read_csv(\"Tweets.csv\")\n",
    "tweet.head(3)"
   ]
  },
  {
   "cell_type": "code",
   "execution_count": 3,
   "metadata": {},
   "outputs": [
    {
     "data": {
      "text/plain": [
       "(27481, 4)"
      ]
     },
     "execution_count": 3,
     "metadata": {},
     "output_type": "execute_result"
    }
   ],
   "source": [
    "tweet.shape"
   ]
  },
  {
   "cell_type": "markdown",
   "metadata": {},
   "source": [
    "Data cleaning"
   ]
  },
  {
   "cell_type": "code",
   "execution_count": 4,
   "metadata": {},
   "outputs": [
    {
     "data": {
      "text/plain": [
       "(27481, 2)"
      ]
     },
     "execution_count": 4,
     "metadata": {},
     "output_type": "execute_result"
    }
   ],
   "source": [
    "# dropping unusefull columns\n",
    "tweet = tweet.drop(columns=['textID', 'selected_text'], axis=1)\n",
    "tweet.shape"
   ]
  },
  {
   "cell_type": "code",
   "execution_count": 5,
   "metadata": {},
   "outputs": [
    {
     "data": {
      "text/plain": [
       "text         1\n",
       "sentiment    0\n",
       "dtype: int64"
      ]
     },
     "execution_count": 5,
     "metadata": {},
     "output_type": "execute_result"
    }
   ],
   "source": [
    "#checking for missing values\n",
    "tweet.isnull().sum()"
   ]
  },
  {
   "cell_type": "code",
   "execution_count": 6,
   "metadata": {},
   "outputs": [
    {
     "name": "stdout",
     "output_type": "stream",
     "text": [
      "    text sentiment\n",
      "314  NaN   neutral\n"
     ]
    }
   ],
   "source": [
    "# show the content of the row that include a missing value\n",
    "rows_with_missing_values = tweet[tweet.isnull().any(axis=1)]\n",
    "print(rows_with_missing_values)"
   ]
  },
  {
   "cell_type": "code",
   "execution_count": 7,
   "metadata": {},
   "outputs": [
    {
     "data": {
      "text/plain": [
       "(27480, 2)"
      ]
     },
     "execution_count": 7,
     "metadata": {},
     "output_type": "execute_result"
    }
   ],
   "source": [
    "# drop any missing value\n",
    "tweet = tweet.dropna()\n",
    "tweet.shape"
   ]
  },
  {
   "cell_type": "code",
   "execution_count": 8,
   "metadata": {},
   "outputs": [
    {
     "name": "stdout",
     "output_type": "stream",
     "text": [
      "Number of duplicate Record: 0\n"
     ]
    }
   ],
   "source": [
    "# check for duplicate record\n",
    "print('Number of duplicate Record:', tweet.duplicated().sum())"
   ]
  },
  {
   "cell_type": "markdown",
   "metadata": {},
   "source": [
    "Data vizualisation"
   ]
  },
  {
   "cell_type": "code",
   "execution_count": 9,
   "metadata": {},
   "outputs": [
    {
     "data": {
      "text/plain": [
       "Text(0.5, 1.0, 'Sentiment distribution')"
      ]
     },
     "execution_count": 9,
     "metadata": {},
     "output_type": "execute_result"
    },
    {
     "data": {
      "image/png": "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",
      "text/plain": [
       "<Figure size 640x480 with 1 Axes>"
      ]
     },
     "metadata": {},
     "output_type": "display_data"
    }
   ],
   "source": [
    "# check sentiments repartition\n",
    "# using a pie plot\n",
    "sentiment_count = tweet['sentiment'].value_counts()\n",
    "plt.pie(sentiment_count, labels = sentiment_count.index, autopct='%1.1f%%')\n",
    "plt.title('Sentiment distribution')"
   ]
  },
  {
   "cell_type": "markdown",
   "metadata": {},
   "source": [
    "Cleaning all tweets"
   ]
  },
  {
   "cell_type": "code",
   "execution_count": 10,
   "metadata": {},
   "outputs": [
    {
     "data": {
      "text/html": [
       "<div>\n",
       "<style scoped>\n",
       "    .dataframe tbody tr th:only-of-type {\n",
       "        vertical-align: middle;\n",
       "    }\n",
       "\n",
       "    .dataframe tbody tr th {\n",
       "        vertical-align: top;\n",
       "    }\n",
       "\n",
       "    .dataframe thead th {\n",
       "        text-align: right;\n",
       "    }\n",
       "</style>\n",
       "<table border=\"1\" class=\"dataframe\">\n",
       "  <thead>\n",
       "    <tr style=\"text-align: right;\">\n",
       "      <th></th>\n",
       "      <th>text</th>\n",
       "      <th>sentiment</th>\n",
       "    </tr>\n",
       "  </thead>\n",
       "  <tbody>\n",
       "    <tr>\n",
       "      <th>0</th>\n",
       "      <td>I`d have responded, if I were going</td>\n",
       "      <td>1</td>\n",
       "    </tr>\n",
       "    <tr>\n",
       "      <th>1</th>\n",
       "      <td>Sooo SAD I will miss you here in San Diego!!!</td>\n",
       "      <td>0</td>\n",
       "    </tr>\n",
       "    <tr>\n",
       "      <th>2</th>\n",
       "      <td>my boss is bullying me...</td>\n",
       "      <td>0</td>\n",
       "    </tr>\n",
       "    <tr>\n",
       "      <th>3</th>\n",
       "      <td>what interview! leave me alone</td>\n",
       "      <td>0</td>\n",
       "    </tr>\n",
       "    <tr>\n",
       "      <th>4</th>\n",
       "      <td>Sons of ****, why couldn`t they put them on t...</td>\n",
       "      <td>0</td>\n",
       "    </tr>\n",
       "  </tbody>\n",
       "</table>\n",
       "</div>"
      ],
      "text/plain": [
       "                                                text  sentiment\n",
       "0                I`d have responded, if I were going          1\n",
       "1      Sooo SAD I will miss you here in San Diego!!!          0\n",
       "2                          my boss is bullying me...          0\n",
       "3                     what interview! leave me alone          0\n",
       "4   Sons of ****, why couldn`t they put them on t...          0"
      ]
     },
     "execution_count": 10,
     "metadata": {},
     "output_type": "execute_result"
    }
   ],
   "source": [
    "# replace sentiment string values by numerical values\n",
    "# 0 for negative, 1 for neutral and 2 for positive\n",
    "tweet.replace({'sentiment':{'negative':0, 'neutral':1, 'positive':2}}, inplace=True)\n",
    "tweet.head()"
   ]
  },
  {
   "cell_type": "code",
   "execution_count": 11,
   "metadata": {},
   "outputs": [
    {
     "name": "stderr",
     "output_type": "stream",
     "text": [
      "[nltk_data] Downloading package stopwords to\n",
      "[nltk_data]     C:\\Users\\martj\\AppData\\Roaming\\nltk_data...\n",
      "[nltk_data]   Package stopwords is already up-to-date!\n",
      "[nltk_data] Downloading package punkt to\n",
      "[nltk_data]     C:\\Users\\martj\\AppData\\Roaming\\nltk_data...\n",
      "[nltk_data]   Unzipping tokenizers\\punkt.zip.\n"
     ]
    }
   ],
   "source": [
    "# Download NLTK stop words and tokenizer\n",
    "nltk.download('stopwords')\n",
    "nltk.download('punkt')\n",
    "\n",
    "# Function to remove URLs, numeric numbers, stop words, punctuation, and repeating characters, and tokenize the text\n",
    "def clean_text(text):\n",
    "    stop_words = set(stopwords.words('english'))\n",
    "    punctuation = string.punctuation\n",
    "    \n",
    "    # Remove URLs\n",
    "    text = re.sub(r'http\\S+|www\\S+|https\\S+', '', text, flags=re.MULTILINE)\n",
    "    \n",
    "    # Remove numeric numbers\n",
    "    text = re.sub(r'\\b\\d+\\b', '', text)\n",
    "    \n",
    "    # Tokenize the text\n",
    "    word_tokens = word_tokenize(text)\n",
    "    \n",
    "    # Remove stop words, punctuation, and repeating characters\n",
    "    cleaned_tokens = [word.lower() for word in word_tokens if word.lower() not in stop_words and word not in punctuation]\n",
    "    cleaned_text = ' '.join([''.join(re.sub(r'(.)\\1+', r'\\1', word)) for word in cleaned_tokens])\n",
    "    \n",
    "    return cleaned_text\n",
    "\n",
    "# Apply the function to the 'Tweet' column\n",
    "tweet['cleaned_text'] = tweet['text'].apply(clean_text)\n"
   ]
  },
  {
   "cell_type": "code",
   "execution_count": 12,
   "metadata": {},
   "outputs": [
    {
     "data": {
      "text/html": [
       "<div>\n",
       "<style scoped>\n",
       "    .dataframe tbody tr th:only-of-type {\n",
       "        vertical-align: middle;\n",
       "    }\n",
       "\n",
       "    .dataframe tbody tr th {\n",
       "        vertical-align: top;\n",
       "    }\n",
       "\n",
       "    .dataframe thead th {\n",
       "        text-align: right;\n",
       "    }\n",
       "</style>\n",
       "<table border=\"1\" class=\"dataframe\">\n",
       "  <thead>\n",
       "    <tr style=\"text-align: right;\">\n",
       "      <th></th>\n",
       "      <th>text</th>\n",
       "      <th>sentiment</th>\n",
       "      <th>cleaned_text</th>\n",
       "    </tr>\n",
       "  </thead>\n",
       "  <tbody>\n",
       "    <tr>\n",
       "      <th>0</th>\n",
       "      <td>I`d have responded, if I were going</td>\n",
       "      <td>1</td>\n",
       "      <td>responded going</td>\n",
       "    </tr>\n",
       "    <tr>\n",
       "      <th>1</th>\n",
       "      <td>Sooo SAD I will miss you here in San Diego!!!</td>\n",
       "      <td>0</td>\n",
       "      <td>so sad mis san diego</td>\n",
       "    </tr>\n",
       "    <tr>\n",
       "      <th>2</th>\n",
       "      <td>my boss is bullying me...</td>\n",
       "      <td>0</td>\n",
       "      <td>bos bulying .</td>\n",
       "    </tr>\n",
       "    <tr>\n",
       "      <th>3</th>\n",
       "      <td>what interview! leave me alone</td>\n",
       "      <td>0</td>\n",
       "      <td>interview leave alone</td>\n",
       "    </tr>\n",
       "    <tr>\n",
       "      <th>4</th>\n",
       "      <td>Sons of ****, why couldn`t they put them on t...</td>\n",
       "      <td>0</td>\n",
       "      <td>sons put releases already bought</td>\n",
       "    </tr>\n",
       "    <tr>\n",
       "      <th>5</th>\n",
       "      <td>http://www.dothebouncy.com/smf - some shameles...</td>\n",
       "      <td>1</td>\n",
       "      <td>shameles pluging best rangers forum earth</td>\n",
       "    </tr>\n",
       "    <tr>\n",
       "      <th>6</th>\n",
       "      <td>2am feedings for the baby are fun when he is a...</td>\n",
       "      <td>2</td>\n",
       "      <td>2am fedings baby fun smiles cos</td>\n",
       "    </tr>\n",
       "    <tr>\n",
       "      <th>7</th>\n",
       "      <td>Soooo high</td>\n",
       "      <td>1</td>\n",
       "      <td>so high</td>\n",
       "    </tr>\n",
       "    <tr>\n",
       "      <th>8</th>\n",
       "      <td>Both of you</td>\n",
       "      <td>1</td>\n",
       "      <td></td>\n",
       "    </tr>\n",
       "    <tr>\n",
       "      <th>9</th>\n",
       "      <td>Journey!? Wow... u just became cooler.  hehe....</td>\n",
       "      <td>2</td>\n",
       "      <td>journey wow . u became coler hehe . posible</td>\n",
       "    </tr>\n",
       "    <tr>\n",
       "      <th>10</th>\n",
       "      <td>as much as i love to be hopeful, i reckon the...</td>\n",
       "      <td>1</td>\n",
       "      <td>much love hopeful reckon chances minimal =p ne...</td>\n",
       "    </tr>\n",
       "    <tr>\n",
       "      <th>11</th>\n",
       "      <td>I really really like the song Love Story by Ta...</td>\n",
       "      <td>2</td>\n",
       "      <td>realy realy like song love story taylor swift</td>\n",
       "    </tr>\n",
       "    <tr>\n",
       "      <th>12</th>\n",
       "      <td>My Sharpie is running DANGERously low on ink</td>\n",
       "      <td>0</td>\n",
       "      <td>sharpie runing dangerously low ink</td>\n",
       "    </tr>\n",
       "    <tr>\n",
       "      <th>13</th>\n",
       "      <td>i want to go to music tonight but i lost my vo...</td>\n",
       "      <td>0</td>\n",
       "      <td>want go music tonight lost voice</td>\n",
       "    </tr>\n",
       "    <tr>\n",
       "      <th>14</th>\n",
       "      <td>test test from the LG enV2</td>\n",
       "      <td>1</td>\n",
       "      <td>test test lg env2</td>\n",
       "    </tr>\n",
       "    <tr>\n",
       "      <th>15</th>\n",
       "      <td>Uh oh, I am sunburned</td>\n",
       "      <td>0</td>\n",
       "      <td>uh oh sunburned</td>\n",
       "    </tr>\n",
       "    <tr>\n",
       "      <th>16</th>\n",
       "      <td>S`ok, trying to plot alternatives as we speak...</td>\n",
       "      <td>0</td>\n",
       "      <td>ok trying plot alternatives speak sigh</td>\n",
       "    </tr>\n",
       "    <tr>\n",
       "      <th>17</th>\n",
       "      <td>i`ve been sick for the past few days  and thus...</td>\n",
       "      <td>0</td>\n",
       "      <td>sick past days thus hair loks wierd didnt hat ...</td>\n",
       "    </tr>\n",
       "    <tr>\n",
       "      <th>18</th>\n",
       "      <td>is back home now      gonna miss every one</td>\n",
       "      <td>0</td>\n",
       "      <td>back home gon na mis every one</td>\n",
       "    </tr>\n",
       "    <tr>\n",
       "      <th>19</th>\n",
       "      <td>Hes just not that into you</td>\n",
       "      <td>1</td>\n",
       "      <td>hes</td>\n",
       "    </tr>\n",
       "  </tbody>\n",
       "</table>\n",
       "</div>"
      ],
      "text/plain": [
       "                                                 text  sentiment  \\\n",
       "0                 I`d have responded, if I were going          1   \n",
       "1       Sooo SAD I will miss you here in San Diego!!!          0   \n",
       "2                           my boss is bullying me...          0   \n",
       "3                      what interview! leave me alone          0   \n",
       "4    Sons of ****, why couldn`t they put them on t...          0   \n",
       "5   http://www.dothebouncy.com/smf - some shameles...          1   \n",
       "6   2am feedings for the baby are fun when he is a...          2   \n",
       "7                                          Soooo high          1   \n",
       "8                                         Both of you          1   \n",
       "9    Journey!? Wow... u just became cooler.  hehe....          2   \n",
       "10   as much as i love to be hopeful, i reckon the...          1   \n",
       "11  I really really like the song Love Story by Ta...          2   \n",
       "12       My Sharpie is running DANGERously low on ink          0   \n",
       "13  i want to go to music tonight but i lost my vo...          0   \n",
       "14                         test test from the LG enV2          1   \n",
       "15                              Uh oh, I am sunburned          0   \n",
       "16   S`ok, trying to plot alternatives as we speak...          0   \n",
       "17  i`ve been sick for the past few days  and thus...          0   \n",
       "18         is back home now      gonna miss every one          0   \n",
       "19                         Hes just not that into you          1   \n",
       "\n",
       "                                         cleaned_text  \n",
       "0                                     responded going  \n",
       "1                                so sad mis san diego  \n",
       "2                                       bos bulying .  \n",
       "3                               interview leave alone  \n",
       "4                    sons put releases already bought  \n",
       "5           shameles pluging best rangers forum earth  \n",
       "6                     2am fedings baby fun smiles cos  \n",
       "7                                             so high  \n",
       "8                                                      \n",
       "9         journey wow . u became coler hehe . posible  \n",
       "10  much love hopeful reckon chances minimal =p ne...  \n",
       "11      realy realy like song love story taylor swift  \n",
       "12                 sharpie runing dangerously low ink  \n",
       "13                   want go music tonight lost voice  \n",
       "14                                  test test lg env2  \n",
       "15                                    uh oh sunburned  \n",
       "16             ok trying plot alternatives speak sigh  \n",
       "17  sick past days thus hair loks wierd didnt hat ...  \n",
       "18                     back home gon na mis every one  \n",
       "19                                                hes  "
      ]
     },
     "execution_count": 12,
     "metadata": {},
     "output_type": "execute_result"
    }
   ],
   "source": [
    "tweet.head(20)"
   ]
  },
  {
   "cell_type": "code",
   "execution_count": null,
   "metadata": {},
   "outputs": [],
   "source": []
  }
 ],
 "metadata": {
  "kernelspec": {
   "display_name": "py38",
   "language": "python",
   "name": "python3"
  },
  "language_info": {
   "codemirror_mode": {
    "name": "ipython",
    "version": 3
   },
   "file_extension": ".py",
   "mimetype": "text/x-python",
   "name": "python",
   "nbconvert_exporter": "python",
   "pygments_lexer": "ipython3",
   "version": "3.8.17"
  }
 },
 "nbformat": 4,
 "nbformat_minor": 2
}
=======
{
 "cells": [
  {
   "cell_type": "markdown",
   "metadata": {},
   "source": [
    "Importing packages"
   ]
  },
  {
   "cell_type": "code",
   "execution_count": 15,
   "metadata": {},
   "outputs": [],
   "source": [
    "# import\n",
    "import pandas as pd\n",
    "# data vizualisation\n",
    "import matplotlib.pyplot as plt\n",
    "# text cleaning\n",
    "import nltk\n",
    "from nltk.corpus import stopwords"
   ]
  },
  {
   "cell_type": "markdown",
   "metadata": {},
   "source": [
    "Loading CSV file"
   ]
  },
  {
   "cell_type": "code",
   "execution_count": 16,
   "metadata": {},
   "outputs": [
    {
     "data": {
      "text/html": [
       "<div>\n",
       "<style scoped>\n",
       "    .dataframe tbody tr th:only-of-type {\n",
       "        vertical-align: middle;\n",
       "    }\n",
       "\n",
       "    .dataframe tbody tr th {\n",
       "        vertical-align: top;\n",
       "    }\n",
       "\n",
       "    .dataframe thead th {\n",
       "        text-align: right;\n",
       "    }\n",
       "</style>\n",
       "<table border=\"1\" class=\"dataframe\">\n",
       "  <thead>\n",
       "    <tr style=\"text-align: right;\">\n",
       "      <th></th>\n",
       "      <th>textID</th>\n",
       "      <th>text</th>\n",
       "      <th>selected_text</th>\n",
       "      <th>sentiment</th>\n",
       "    </tr>\n",
       "  </thead>\n",
       "  <tbody>\n",
       "    <tr>\n",
       "      <th>0</th>\n",
       "      <td>cb774db0d1</td>\n",
       "      <td>I`d have responded, if I were going</td>\n",
       "      <td>I`d have responded, if I were going</td>\n",
       "      <td>neutral</td>\n",
       "    </tr>\n",
       "    <tr>\n",
       "      <th>1</th>\n",
       "      <td>549e992a42</td>\n",
       "      <td>Sooo SAD I will miss you here in San Diego!!!</td>\n",
       "      <td>Sooo SAD</td>\n",
       "      <td>negative</td>\n",
       "    </tr>\n",
       "    <tr>\n",
       "      <th>2</th>\n",
       "      <td>088c60f138</td>\n",
       "      <td>my boss is bullying me...</td>\n",
       "      <td>bullying me</td>\n",
       "      <td>negative</td>\n",
       "    </tr>\n",
       "  </tbody>\n",
       "</table>\n",
       "</div>"
      ],
      "text/plain": [
       "       textID                                            text  \\\n",
       "0  cb774db0d1             I`d have responded, if I were going   \n",
       "1  549e992a42   Sooo SAD I will miss you here in San Diego!!!   \n",
       "2  088c60f138                       my boss is bullying me...   \n",
       "\n",
       "                         selected_text sentiment  \n",
       "0  I`d have responded, if I were going   neutral  \n",
       "1                             Sooo SAD  negative  \n",
       "2                          bullying me  negative  "
      ]
     },
     "execution_count": 16,
     "metadata": {},
     "output_type": "execute_result"
    }
   ],
   "source": [
    "tweet = pd.read_csv(\"Tweets.csv\")\n",
    "tweet.head(3)"
   ]
  },
  {
   "cell_type": "code",
   "execution_count": 17,
   "metadata": {},
   "outputs": [
    {
     "data": {
      "text/plain": [
       "(27481, 4)"
      ]
     },
     "execution_count": 17,
     "metadata": {},
     "output_type": "execute_result"
    }
   ],
   "source": [
    "tweet.shape"
   ]
  },
  {
   "cell_type": "markdown",
   "metadata": {},
   "source": [
    "Data cleaning"
   ]
  },
  {
   "cell_type": "code",
   "execution_count": 18,
   "metadata": {},
   "outputs": [
    {
     "data": {
      "text/plain": [
       "(27481, 2)"
      ]
     },
     "execution_count": 18,
     "metadata": {},
     "output_type": "execute_result"
    }
   ],
   "source": [
    "# dropping unusefull columns\n",
    "tweet = tweet.drop(columns=['textID', 'selected_text'], axis=1)\n",
    "tweet.shape"
   ]
  },
  {
   "cell_type": "code",
   "execution_count": 19,
   "metadata": {},
   "outputs": [
    {
     "data": {
      "text/plain": [
       "text         1\n",
       "sentiment    0\n",
       "dtype: int64"
      ]
     },
     "execution_count": 19,
     "metadata": {},
     "output_type": "execute_result"
    }
   ],
   "source": [
    "#checking for missing values\n",
    "tweet.isnull().sum()"
   ]
  },
  {
   "cell_type": "code",
   "execution_count": 20,
   "metadata": {},
   "outputs": [
    {
     "name": "stdout",
     "output_type": "stream",
     "text": [
      "    text sentiment\n",
      "314  NaN   neutral\n"
     ]
    }
   ],
   "source": [
    "# show the content of the row that include a missing value\n",
    "rows_with_missing_values = tweet[tweet.isnull().any(axis=1)]\n",
    "print(rows_with_missing_values)"
   ]
  },
  {
   "cell_type": "code",
   "execution_count": 21,
   "metadata": {},
   "outputs": [
    {
     "data": {
      "text/plain": [
       "(27480, 2)"
      ]
     },
     "execution_count": 21,
     "metadata": {},
     "output_type": "execute_result"
    }
   ],
   "source": [
    "# drop any missing value\n",
    "tweet = tweet.dropna()\n",
    "tweet.shape"
   ]
  },
  {
   "cell_type": "code",
   "execution_count": 22,
   "metadata": {},
   "outputs": [
    {
     "name": "stdout",
     "output_type": "stream",
     "text": [
      "Number of duplicate Record: 0\n"
     ]
    }
   ],
   "source": [
    "# check for duplicate record\n",
    "print('Number of duplicate Record:', tweet.duplicated().sum())"
   ]
  },
  {
   "cell_type": "markdown",
   "metadata": {},
   "source": [
    "Data vizualisation"
   ]
  },
  {
   "cell_type": "code",
   "execution_count": 23,
   "metadata": {},
   "outputs": [
    {
     "data": {
      "text/plain": [
       "Text(0.5, 1.0, 'Sentiment distribution')"
      ]
     },
     "execution_count": 23,
     "metadata": {},
     "output_type": "execute_result"
    },
    {
     "data": {
      "image/png": "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",
      "text/plain": [
       "<Figure size 640x480 with 1 Axes>"
      ]
     },
     "metadata": {},
     "output_type": "display_data"
    }
   ],
   "source": [
    "# check sentiments repartition\n",
    "# using a pie plot\n",
    "sentiment_count = tweet['sentiment'].value_counts()\n",
    "plt.pie(sentiment_count, labels = sentiment_count.index, autopct='%1.1f%%')\n",
    "plt.title('Sentiment distribution')"
   ]
  },
  {
   "cell_type": "markdown",
   "metadata": {},
   "source": [
    "Cleaning all tweets"
   ]
  },
  {
   "cell_type": "code",
   "execution_count": 24,
   "metadata": {},
   "outputs": [
    {
     "data": {
      "text/html": [
       "<div>\n",
       "<style scoped>\n",
       "    .dataframe tbody tr th:only-of-type {\n",
       "        vertical-align: middle;\n",
       "    }\n",
       "\n",
       "    .dataframe tbody tr th {\n",
       "        vertical-align: top;\n",
       "    }\n",
       "\n",
       "    .dataframe thead th {\n",
       "        text-align: right;\n",
       "    }\n",
       "</style>\n",
       "<table border=\"1\" class=\"dataframe\">\n",
       "  <thead>\n",
       "    <tr style=\"text-align: right;\">\n",
       "      <th></th>\n",
       "      <th>text</th>\n",
       "      <th>sentiment</th>\n",
       "    </tr>\n",
       "  </thead>\n",
       "  <tbody>\n",
       "    <tr>\n",
       "      <th>0</th>\n",
       "      <td>I`d have responded, if I were going</td>\n",
       "      <td>1</td>\n",
       "    </tr>\n",
       "    <tr>\n",
       "      <th>1</th>\n",
       "      <td>Sooo SAD I will miss you here in San Diego!!!</td>\n",
       "      <td>0</td>\n",
       "    </tr>\n",
       "    <tr>\n",
       "      <th>2</th>\n",
       "      <td>my boss is bullying me...</td>\n",
       "      <td>0</td>\n",
       "    </tr>\n",
       "    <tr>\n",
       "      <th>3</th>\n",
       "      <td>what interview! leave me alone</td>\n",
       "      <td>0</td>\n",
       "    </tr>\n",
       "    <tr>\n",
       "      <th>4</th>\n",
       "      <td>Sons of ****, why couldn`t they put them on t...</td>\n",
       "      <td>0</td>\n",
       "    </tr>\n",
       "  </tbody>\n",
       "</table>\n",
       "</div>"
      ],
      "text/plain": [
       "                                                text  sentiment\n",
       "0                I`d have responded, if I were going          1\n",
       "1      Sooo SAD I will miss you here in San Diego!!!          0\n",
       "2                          my boss is bullying me...          0\n",
       "3                     what interview! leave me alone          0\n",
       "4   Sons of ****, why couldn`t they put them on t...          0"
      ]
     },
     "execution_count": 24,
     "metadata": {},
     "output_type": "execute_result"
    }
   ],
   "source": [
    "# replace sentiment string values by numerical values\n",
    "# 0 for negative, 1 for neutral and 2 for positive\n",
    "tweet.replace({'sentiment':{'negative':0, 'neutral':1, 'positive':2}}, inplace=True)\n",
    "tweet.head()"
   ]
  },
  {
   "cell_type": "code",
   "execution_count": 25,
   "metadata": {},
   "outputs": [
    {
     "data": {
      "text/html": [
       "<div>\n",
       "<style scoped>\n",
       "    .dataframe tbody tr th:only-of-type {\n",
       "        vertical-align: middle;\n",
       "    }\n",
       "\n",
       "    .dataframe tbody tr th {\n",
       "        vertical-align: top;\n",
       "    }\n",
       "\n",
       "    .dataframe thead th {\n",
       "        text-align: right;\n",
       "    }\n",
       "</style>\n",
       "<table border=\"1\" class=\"dataframe\">\n",
       "  <thead>\n",
       "    <tr style=\"text-align: right;\">\n",
       "      <th></th>\n",
       "      <th>text</th>\n",
       "      <th>sentiment</th>\n",
       "    </tr>\n",
       "  </thead>\n",
       "  <tbody>\n",
       "    <tr>\n",
       "      <th>0</th>\n",
       "      <td>i`d have responded, if i were going</td>\n",
       "      <td>1</td>\n",
       "    </tr>\n",
       "    <tr>\n",
       "      <th>1</th>\n",
       "      <td>sooo sad i will miss you here in san diego!!!</td>\n",
       "      <td>0</td>\n",
       "    </tr>\n",
       "    <tr>\n",
       "      <th>2</th>\n",
       "      <td>my boss is bullying me...</td>\n",
       "      <td>0</td>\n",
       "    </tr>\n",
       "    <tr>\n",
       "      <th>3</th>\n",
       "      <td>what interview! leave me alone</td>\n",
       "      <td>0</td>\n",
       "    </tr>\n",
       "    <tr>\n",
       "      <th>4</th>\n",
       "      <td>sons of ****, why couldn`t they put them on t...</td>\n",
       "      <td>0</td>\n",
       "    </tr>\n",
       "  </tbody>\n",
       "</table>\n",
       "</div>"
      ],
      "text/plain": [
       "                                                text  sentiment\n",
       "0                i`d have responded, if i were going          1\n",
       "1      sooo sad i will miss you here in san diego!!!          0\n",
       "2                          my boss is bullying me...          0\n",
       "3                     what interview! leave me alone          0\n",
       "4   sons of ****, why couldn`t they put them on t...          0"
      ]
     },
     "execution_count": 25,
     "metadata": {},
     "output_type": "execute_result"
    }
   ],
   "source": [
    "# put every tweets to lower case\n",
    "tweet['text']=tweet['text'].str.lower()\n",
    "tweet.head()"
   ]
  },
  {
   "cell_type": "code",
   "execution_count": 26,
   "metadata": {},
   "outputs": [
    {
     "name": "stderr",
     "output_type": "stream",
     "text": [
      "[nltk_data] Downloading package stopwords to\n",
      "[nltk_data]     C:\\Users\\martj\\AppData\\Roaming\\nltk_data...\n",
      "[nltk_data]   Package stopwords is already up-to-date!\n"
     ]
    },
    {
     "data": {
      "text/plain": [
       "0                               i`d responded, going\n",
       "1                         sooo sad miss san diego!!!\n",
       "2                                boss bullying me...\n",
       "3                             interview! leave alone\n",
       "4    sons ****, couldn`t put releases already bought\n",
       "Name: text, dtype: object"
      ]
     },
     "execution_count": 26,
     "metadata": {},
     "output_type": "execute_result"
    }
   ],
   "source": [
    "# importing stopwords set from the nltk library\n",
    "nltk.download('stopwords')\n",
    "stop_words = set(stopwords.words('english'))\n",
    "\n",
    "# stopwords remover function\n",
    "def cleaning_stopwords(text):\n",
    "    return ' '.join([word for word in str(text).split() if word not in stop_words])\n",
    "\n",
    "# applying function to 'text'\n",
    "tweet['text'] = tweet['text'].apply(lambda text: cleaning_stopwords(text))\n",
    "tweet['text'].head()"
   ]
  },
  {
   "cell_type": "code",
   "execution_count": 27,
   "metadata": {},
   "outputs": [
    {
     "data": {
      "text/plain": [
       "0                           id responded going\n",
       "1                      sooo sad miss san diego\n",
       "2                             boss bullying me\n",
       "3                        interview leave alone\n",
       "4    sons  couldnt put releases already bought\n",
       "Name: text, dtype: object"
      ]
     },
     "execution_count": 27,
     "metadata": {},
     "output_type": "execute_result"
    }
   ],
   "source": [
    "# remove punctuation from tweets\n",
    "import string\n",
    "english_punctuations = string.punctuation\n",
    "punctuations_list = english_punctuations\n",
    "def cleaning_punctuations(text):\n",
    "    translator = str.maketrans('', '', punctuations_list)\n",
    "    return text.translate(translator)\n",
    "tweet['text']= tweet['text'].apply(lambda x: cleaning_punctuations(x))\n",
    "tweet['text'].head()"
   ]
  }
 ],
 "metadata": {
  "kernelspec": {
   "display_name": "py38",
   "language": "python",
   "name": "python3"
  },
  "language_info": {
   "codemirror_mode": {
    "name": "ipython",
    "version": 3
   },
   "file_extension": ".py",
   "mimetype": "text/x-python",
   "name": "python",
   "nbconvert_exporter": "python",
   "pygments_lexer": "ipython3",
   "version": "3.8.17"
  }
 },
 "nbformat": 4,
 "nbformat_minor": 2
}
>>>>>>> 4abd23fb43f39d63a9dc95cbdb21a0ad1fc80309
